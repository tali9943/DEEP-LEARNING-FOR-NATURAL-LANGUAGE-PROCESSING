{
  "nbformat": 4,
  "nbformat_minor": 0,
  "metadata": {
    "colab": {
      "provenance": [],
      "gpuType": "T4",
      "mount_file_id": "1vrmy1wEKvhr-qAc1TsmCmqL5xXva3WgD",
      "authorship_tag": "ABX9TyO1M3OJrFW2GS4SiLjEs24t",
      "include_colab_link": true
    },
    "kernelspec": {
      "name": "python3",
      "display_name": "Python 3"
    },
    "language_info": {
      "name": "python"
    },
    "accelerator": "GPU"
  },
  "cells": [
    {
      "cell_type": "markdown",
      "metadata": {
        "id": "view-in-github",
        "colab_type": "text"
      },
      "source": [
        "<a href=\"https://colab.research.google.com/github/tali9943/DEEP-LEARNING-FOR-NATURAL-LANGUAGE-PROCESSING/blob/main/First_bert.ipynb\" target=\"_parent\"><img src=\"https://colab.research.google.com/assets/colab-badge.svg\" alt=\"Open In Colab\"/></a>"
      ]
    },
    {
      "cell_type": "markdown",
      "source": [
        "# Load Dataset\n"
      ],
      "metadata": {
        "id": "_KhMDHWAInZk"
      }
    },
    {
      "cell_type": "code",
      "source": [
        "# load google drive to see the files in google drive\n",
        "from google.colab import drive\n",
        "drive.mount('/content/drive')\n"
      ],
      "metadata": {
        "colab": {
          "base_uri": "https://localhost:8080/"
        },
        "id": "I9DSKdiLIsPD",
        "outputId": "6b157a49-c559-495a-b1c7-0630ca723b53"
      },
      "execution_count": 47,
      "outputs": [
        {
          "output_type": "stream",
          "name": "stdout",
          "text": [
            "Drive already mounted at /content/drive; to attempt to forcibly remount, call drive.mount(\"/content/drive\", force_remount=True).\n"
          ]
        }
      ]
    },
    {
      "cell_type": "code",
      "source": [
        "train_csv_path = '/content/drive/MyDrive/Progetto-Vascon/Dataset/train.csv'\n",
        "test_csv_path = '/content/drive/MyDrive/Progetto-Vascon/Dataset/test.csv'"
      ],
      "metadata": {
        "id": "1dx9dHyTOpkL"
      },
      "execution_count": 48,
      "outputs": []
    },
    {
      "cell_type": "code",
      "source": [
        "#function to load a csv file from a drive folder\n",
        "import pandas as pd\n",
        "\n",
        "def load_csv(path_csv):\n",
        "  path_file_csv = path_csv\n",
        "  df = pd.read_csv(path_file_csv)\n",
        "\n",
        "  return df"
      ],
      "metadata": {
        "id": "_zbN6pLbKbOX"
      },
      "execution_count": 49,
      "outputs": []
    },
    {
      "cell_type": "code",
      "source": [
        "test_df = load_csv(test_csv_path)\n",
        "test_df"
      ],
      "metadata": {
        "id": "L57PlzqOOoNs"
      },
      "execution_count": 50,
      "outputs": []
    },
    {
      "cell_type": "code",
      "source": [
        "train_df = load_csv(train_csv_path)\n",
        "train_df"
      ],
      "metadata": {
        "id": "-MhUmSoDODmb"
      },
      "execution_count": null,
      "outputs": []
    },
    {
      "cell_type": "code",
      "source": [
        "import pandas\n",
        "pandas.set_option('display.max_rows', None)\n",
        "\n",
        "\"\"\"\n",
        "Function that creates a dataframe which takes the input number of rows from an input dataframe\n",
        "\"\"\"\n",
        "def take_first_rows_dataframe(train_df, n_rows):\n",
        "    return train_df.head(n_rows)\n",
        "\n",
        "\n",
        "# Showing the final training set\n",
        "train_df = take_first_rows_dataframe(train_df, 500)\n",
        "train_df"
      ],
      "metadata": {
        "id": "YcfRUqM6OK10"
      },
      "execution_count": null,
      "outputs": []
    },
    {
      "cell_type": "markdown",
      "source": [
        "## Stemming and Lemming"
      ],
      "metadata": {
        "id": "MHesEJ7eqXuM"
      }
    },
    {
      "cell_type": "code",
      "source": [
        "import pandas as pd\n",
        "from nltk.stem import PorterStemmer\n",
        "from nltk.tokenize import word_tokenize\n",
        "from nltk.corpus import stopwords\n",
        "from nltk.stem import WordNetLemmatizer\n",
        "import nltk\n",
        "\n",
        "# Scarica le stop words se non le hai già\n",
        "nltk.download('punkt')\n",
        "nltk.download('stopwords')\n",
        "nltk.download('wordnet')\n",
        "\n",
        "\n",
        "import string\n",
        "\n",
        "def perform_stemming(sentence):\n",
        "    ps = PorterStemmer()\n",
        "    words = word_tokenize(sentence)\n",
        "    stemmed_words = [ps.stem(word) for word in words if word.lower() not in stopwords.words('english')]\n",
        "    return ' '.join(stemmed_words)\n",
        "\n",
        "def perform_lemmatization(sentence):\n",
        "    lemmatizer = WordNetLemmatizer()\n",
        "    words = word_tokenize(sentence)\n",
        "    lemmatized_words = [lemmatizer.lemmatize(word) for word in words if word.lower() not in stopwords.words('english')]\n",
        "    return ' '.join(lemmatized_words)\n",
        "\n",
        "def preprocess_text(text):\n",
        "    # Rimuovi la punteggiatura\n",
        "    text = text.translate(str.maketrans('', '', string.punctuation))\n",
        "    # Converti tutto in minuscolo\n",
        "    text = text.lower()\n",
        "    return text\n",
        "\n",
        "# Applica la funzione di preprocessing alla colonna 'comment_text' di train_df\n",
        "train_df['comment_text'] = train_df['comment_text'].apply(preprocess_text).apply(perform_stemming).apply(perform_lemmatization)\n",
        "\n"
      ],
      "metadata": {
        "id": "zD6zyKesOL-V"
      },
      "execution_count": null,
      "outputs": []
    },
    {
      "cell_type": "code",
      "source": [
        "train_df"
      ],
      "metadata": {
        "id": "O72K9JAVGivx"
      },
      "execution_count": null,
      "outputs": []
    },
    {
      "cell_type": "markdown",
      "source": [
        "# Prove BERT"
      ],
      "metadata": {
        "id": "p5yZkawpfYYP"
      }
    },
    {
      "cell_type": "markdown",
      "source": [
        "sistemare le frasi con stemming e lemming prima di passarlo a bert!"
      ],
      "metadata": {
        "id": "fl65G5ux37pA"
      }
    },
    {
      "cell_type": "code",
      "source": [
        "from transformers import BertTokenizer, BertForSequenceClassification\n",
        "import torch.nn as nn\n",
        "\n",
        "# Carica il tokenizer di BERT\n",
        "tokenizer = BertTokenizer.from_pretrained('bert-base-uncased')\n",
        "\n",
        "# Carica il modello preaddestrato di BERT per classificazione di sequenze\n",
        "model = BertForSequenceClassification.from_pretrained('bert-base-uncased')\n",
        "\n",
        "\n",
        "# Aggiungi uno strato di classificazione sopra il modello preaddestrato\n",
        "num_classes = 6  # Numero di classi del tuo task\n",
        "model.classifier = nn.Linear(model.config.hidden_size, num_classes)\n",
        "\n",
        "# Opzionale: fissa i pesi del modello preaddestrato\n",
        "for param in model.base_model.parameters():\n",
        "    param.requires_grad = False\n"
      ],
      "metadata": {
        "id": "EXxz_z1EfZ-l"
      },
      "execution_count": null,
      "outputs": []
    },
    {
      "cell_type": "code",
      "source": [],
      "metadata": {
        "id": "AeyqEi5miaDu"
      },
      "execution_count": null,
      "outputs": []
    },
    {
      "cell_type": "code",
      "source": [],
      "metadata": {
        "id": "8etctOmX4piW"
      },
      "execution_count": null,
      "outputs": []
    },
    {
      "cell_type": "markdown",
      "source": [
        "# Prova per riallenare bert con i nostri dati"
      ],
      "metadata": {
        "id": "w0sh3x2N5rhy"
      }
    },
    {
      "cell_type": "code",
      "source": [
        "import torch\n",
        "import numpy as np\n",
        "from transformers import BertTokenizer, BertForSequenceClassification, AdamW\n",
        "from torch.utils.data import DataLoader, TensorDataset, random_split\n",
        "from sklearn.model_selection import train_test_split\n",
        "from sklearn.metrics import accuracy_score, classification_report\n",
        "from tqdm import tqdm\n",
        "\n",
        "# Carica i dati e converti le etichette in tensori\n",
        "# Assumi che train_df contenga le colonne 'comment_text' e le 6 classi binarie\n",
        "texts = train_df['comment_text'].values\n",
        "labels = train_df[['toxic', 'severe_toxic', 'obscene', 'threat', 'insult', 'identity_hate']].values\n",
        "\n",
        "# Dividi i dati in set di addestramento, set di validazione e set di test\n",
        "train_texts, test_texts, train_labels, test_labels = train_test_split(texts, labels, test_size=0.2, random_state=42)\n",
        "train_texts, val_texts, train_labels, val_labels = train_test_split(train_texts, train_labels, test_size=0.1, random_state=42)\n",
        "\n",
        "# Carica il tokenizer e il modello preaddestrato di BERT\n",
        "tokenizer = BertTokenizer.from_pretrained('bert-base-uncased')\n",
        "model = BertForSequenceClassification.from_pretrained('bert-base-uncased', num_labels=6)\n",
        "\n",
        "# Tokenizza i testi e converte in tensori\n",
        "train_encodings = tokenizer(train_texts.tolist(), truncation=True, padding=True, max_length=128, return_tensors='pt')\n",
        "val_encodings = tokenizer(val_texts.tolist(), truncation=True, padding=True, max_length=128, return_tensors='pt')\n",
        "test_encodings = tokenizer(test_texts.tolist(), truncation=True, padding=True, max_length=128, return_tensors='pt')\n",
        "\n",
        "# Creazione di tensori per le etichette\n",
        "train_labels = torch.tensor(train_labels, dtype=torch.float32)\n",
        "val_labels = torch.tensor(val_labels, dtype=torch.float32)\n",
        "test_labels = torch.tensor(test_labels, dtype=torch.float32)\n",
        "\n",
        "# Creazione di DataLoader per gestire i dati durante l'addestramento e la validazione\n",
        "train_dataset = TensorDataset(train_encodings['input_ids'], train_encodings['attention_mask'], train_labels)\n",
        "val_dataset = TensorDataset(val_encodings['input_ids'], val_encodings['attention_mask'], val_labels)\n",
        "test_dataset = TensorDataset(test_encodings['input_ids'], test_encodings['attention_mask'], test_labels)\n",
        "\n",
        "# Creazione di DataLoader per gestire i dati durante l'addestramento e la validazione\n",
        "train_loader = DataLoader(train_dataset, batch_size=16, shuffle=True)\n",
        "val_loader = DataLoader(val_dataset, batch_size=16, shuffle=False)\n",
        "test_loader = DataLoader(test_dataset, batch_size=16, shuffle=False)\n",
        "\n",
        "# Imposta i parametri di ottimizzazione e il dispositivo di addestramento\n",
        "optimizer = AdamW(model.parameters(), lr=2e-5)\n",
        "device = torch.device('cuda' if torch.cuda.is_available() else 'cpu')\n",
        "model.to(device)\n",
        "\n",
        "# Addestra il modello con validazione\n",
        "num_epochs = 3\n",
        "for epoch in range(num_epochs):\n",
        "    # Fase di addestramento\n",
        "    model.train()\n",
        "    for batch in tqdm(train_loader, desc=f'Epoch {epoch + 1}/{num_epochs} - Training'):\n",
        "        input_ids, attention_mask, labels = batch\n",
        "        input_ids, attention_mask, labels = input_ids.to(device), attention_mask.to(device), labels.to(device)\n",
        "\n",
        "        optimizer.zero_grad()\n",
        "\n",
        "        outputs = model(input_ids, attention_mask=attention_mask, labels=labels)\n",
        "        loss = outputs.loss\n",
        "        loss.backward()\n",
        "\n",
        "        optimizer.step()\n",
        "\n",
        "    # Fase di validazione\n",
        "    model.eval()\n",
        "    val_predictions = []\n",
        "    with torch.no_grad():\n",
        "        for batch in tqdm(val_loader, desc=f'Epoch {epoch + 1}/{num_epochs} - Validation'):\n",
        "            input_ids, attention_mask, labels = batch\n",
        "            input_ids, attention_mask, labels = input_ids.to(device), attention_mask.to(device), labels.to(device)\n",
        "\n",
        "            outputs = model(input_ids, attention_mask=attention_mask)\n",
        "            logits = outputs.logits\n",
        "            val_predictions.extend(torch.sigmoid(logits).cpu().numpy())\n",
        "\n",
        "    # Calcola l'accuratezza sulla fase di validazione\n",
        "    val_predictions = (np.array(val_predictions) > 0.5).astype(int)\n",
        "    val_accuracy = accuracy_score(val_labels.numpy(), val_predictions)\n",
        "    print(f'Epoch {epoch + 1}/{num_epochs} - Validation Accuracy: {val_accuracy}')\n",
        "\n",
        "# Addestra il modello sul set di addestramento completo (senza validazione)\n",
        "model.train()\n",
        "for batch in tqdm(train_loader, desc=f'Final Training Epoch'):\n",
        "    input_ids, attention_mask, labels = batch\n",
        "    input_ids, attention_mask, labels = input_ids.to(device), attention_mask.to(device), labels.to(device)\n",
        "\n",
        "    optimizer.zero_grad()\n",
        "\n",
        "    outputs = model(input_ids, attention_mask=attention_mask, labels=labels)\n",
        "    loss = outputs.loss\n",
        "    loss.backward()\n",
        "\n",
        "    optimizer.step()\n",
        "\n",
        "# Valuta il modello sul set di test\n",
        "model.eval()\n",
        "test_predictions = []\n",
        "with torch.no_grad():\n",
        "    for batch in tqdm(test_loader, desc='Evaluating - Test'):\n",
        "        input_ids, attention_mask, labels = batch\n",
        "        input_ids, attention_mask, labels = input_ids.to(device), attention_mask.to(device), labels.to(device)\n",
        "\n",
        "        outputs = model(input_ids, attention_mask=attention_mask)\n",
        "        logits = outputs.logits\n",
        "        test_predictions.extend(torch.sigmoid(logits).cpu().numpy())\n",
        "\n",
        "# Calcola l'accuratezza sul set di test\n",
        "test_predictions = (np.array(test_predictions) > 0.5).astype(int)\n",
        "test_accuracy = accuracy_score(test_labels.numpy(), test_predictions)\n",
        "print(f'Test Accuracy: {test_accuracy}')\n",
        "\n",
        "# Stampa il report di classificazione sul set di test\n",
        "class_names = ['toxic', 'severe_toxic', 'obscene', 'threat', 'insult', 'identity_hate']\n",
        "print(classification_report(test_labels.numpy(), test_predictions, target_names=class_names))\n",
        "\n"
      ],
      "metadata": {
        "id": "Z4xOxAz-4pld"
      },
      "execution_count": null,
      "outputs": []
    },
    {
      "cell_type": "code",
      "source": [],
      "metadata": {
        "id": "JMwmjpOixhEs"
      },
      "execution_count": null,
      "outputs": []
    }
  ]
}