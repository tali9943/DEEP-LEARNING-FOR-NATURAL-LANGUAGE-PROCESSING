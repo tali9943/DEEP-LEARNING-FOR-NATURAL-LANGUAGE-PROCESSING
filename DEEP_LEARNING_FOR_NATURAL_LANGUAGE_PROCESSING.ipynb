{
  "nbformat": 4,
  "nbformat_minor": 0,
  "metadata": {
    "colab": {
      "provenance": [],
      "include_colab_link": true
    },
    "kernelspec": {
      "name": "python3",
      "display_name": "Python 3"
    },
    "language_info": {
      "name": "python"
    }
  },
  "cells": [
    {
      "cell_type": "markdown",
      "metadata": {
        "id": "view-in-github",
        "colab_type": "text"
      },
      "source": [
        "<a href=\"https://colab.research.google.com/github/tali9943/DEEP-LEARNING-FOR-NATURAL-LANGUAGE-PROCESSING/blob/main/DEEP_LEARNING_FOR_NATURAL_LANGUAGE_PROCESSING.ipynb\" target=\"_parent\"><img src=\"https://colab.research.google.com/assets/colab-badge.svg\" alt=\"Open In Colab\"/></a>"
      ]
    },
    {
      "cell_type": "code",
      "execution_count": null,
      "metadata": {
        "id": "c8FK4bkk58pt"
      },
      "outputs": [],
      "source": [
        "# load google drive to see the files in google drive\n",
        "from google.colab import drive\n",
        "drive.mount('/content/drive')"
      ]
    },
    {
      "cell_type": "code",
      "source": [
        "!git clone https://github.com/tali9943/DEEP-LEARNING-FOR-NATURAL-LANGUAGE-PROCESSING.git"
      ],
      "metadata": {
        "colab": {
          "base_uri": "https://localhost:8080/"
        },
        "id": "JXxpHCZ87NPw",
        "outputId": "0fc1e173-a516-44a4-eae3-b952f5e72684"
      },
      "execution_count": null,
      "outputs": [
        {
          "output_type": "stream",
          "name": "stdout",
          "text": [
            "Cloning into 'DEEP-LEARNING-FOR-NATURAL-LANGUAGE-PROCESSING'...\n",
            "remote: Enumerating objects: 3, done.\u001b[K\n",
            "remote: Counting objects: 100% (3/3), done.\u001b[K\n",
            "remote: Total 3 (delta 0), reused 0 (delta 0), pack-reused 0\u001b[K\n",
            "Receiving objects: 100% (3/3), done.\n"
          ]
        }
      ]
    },
    {
      "cell_type": "code",
      "source": [
        "print(\"ciao\")"
      ],
      "metadata": {
        "id": "IsO4lXVn-0kZ"
      },
      "execution_count": null,
      "outputs": []
    },
    {
      "cell_type": "markdown",
      "source": [],
      "metadata": {
        "id": "ncTZuVEu7WUx"
      }
    }
  ]
}